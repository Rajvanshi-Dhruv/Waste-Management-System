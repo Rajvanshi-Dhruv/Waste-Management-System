{
 "cells": [
  {
   "cell_type": "markdown",
   "id": "0e634edd",
   "metadata": {},
   "source": [
    "## Waste Classification Model\n",
    "This project aims to classify images of waste materials into recyclable and non-recyclable categories."
   ]
  },
  {
   "cell_type": "code",
   "execution_count": null,
   "id": "afa23cc3",
   "metadata": {},
   "outputs": [],
   "source": [
    "\n",
    "import numpy as np\n",
    "import matplotlib.pyplot as plt\n",
    "import seaborn as sns\n",
    "import os\n",
    "import cv2\n",
    "from tqdm import tqdm\n",
    "from sklearn.metrics import confusion_matrix, classification_report\n",
    "from tensorflow.keras.applications import VGG16\n",
    "from tensorflow.keras.models import Sequential\n",
    "from tensorflow.keras.layers import Flatten, Dense\n",
    "from tensorflow.keras.callbacks import EarlyStopping\n",
    "import warnings\n",
    "warnings.filterwarnings(\"ignore\")\n"
   ]
  },
  {
   "cell_type": "code",
   "execution_count": null,
   "id": "fd7907d8",
   "metadata": {},
   "outputs": [],
   "source": [
    "\n",
    "# Define paths to training and test directories\n",
    "train_directory = \"../input/non-and-biodegradable-waste-dataset/TRAIN.1\"\n",
    "test_directory = \"../input/non-and-biodegradable-waste-dataset/TEST\"\n",
    "img_size = (60, 60)\n"
   ]
  },
  {
   "cell_type": "code",
   "execution_count": null,
   "id": "3f821e0f",
   "metadata": {},
   "outputs": [],
   "source": [
    "\n",
    "# Function to load images and labels\n",
    "def load_data(directory, img_size):\n",
    "    images, labels = [], []\n",
    "    for label_name in ('B', 'N'):\n",
    "        label = 0 if label_name == 'B' else 1  # 0 for biodegradable, 1 for non-biodegradable\n",
    "        path = os.path.join(directory, label_name)\n",
    "        for img_name in tqdm(os.listdir(path), desc=f\"Loading {label_name}\"):\n",
    "            img_path = os.path.join(path, img_name)\n",
    "            img = cv2.imread(img_path)\n",
    "            if img is not None:\n",
    "                img = cv2.resize(img, img_size) / 255.0  # normalize\n",
    "                images.append(img)\n",
    "                labels.append(label)\n",
    "    return np.array(images, dtype='float32'), np.array(labels, dtype='int32')\n",
    "\n",
    "# Load train and test data\n",
    "train_images, train_labels = load_data(train_directory, img_size)\n",
    "test_images, test_labels = load_data(test_directory, img_size)\n",
    "\n",
    "# Print dataset shapes\n",
    "print(f\"Train data shape: {train_images.shape}, Train labels shape: {train_labels.shape}\")\n",
    "print(f\"Test data shape: {test_images.shape}, Test labels shape: {test_labels.shape}\")\n"
   ]
  },
  {
   "cell_type": "code",
   "execution_count": null,
   "id": "49f252d2",
   "metadata": {},
   "outputs": [],
   "source": [
    "\n",
    "# Visualize the class distribution\n",
    "sns.countplot(x=train_labels)\n",
    "plt.title(\"Class Distribution\")\n",
    "plt.xlabel(\"Class Names (0: Biodegradable, 1: Non-Biodegradable)\")\n",
    "plt.ylabel(\"Count\")\n",
    "plt.show()\n"
   ]
  },
  {
   "cell_type": "code",
   "execution_count": null,
   "id": "c37d3376",
   "metadata": {},
   "outputs": [],
   "source": [
    "\n",
    "# Initialize the VGG16 model for binary classification\n",
    "vgg16_base = VGG16(include_top=False, weights=\"imagenet\", input_shape=(60, 60, 3), pooling='max')\n",
    "for layer in vgg16_base.layers:\n",
    "    layer.trainable = False  # Freeze VGG16 base layers\n",
    "\n",
    "# Create a sequential model and add layers\n",
    "model = Sequential([\n",
    "    vgg16_base,\n",
    "    Flatten(),\n",
    "    Dense(1, activation='sigmoid')  # Binary classification: recyclable vs non-recyclable\n",
    "])\n",
    "\n",
    "# Compile the model\n",
    "model.compile(optimizer='adam', loss='binary_crossentropy', metrics=['accuracy'])\n",
    "\n",
    "# Early stopping to prevent overfitting\n",
    "early_stopping = EarlyStopping(monitor='val_accuracy', mode='max', patience=5, restore_best_weights=True)\n",
    "\n",
    "# Train the model\n",
    "history = model.fit(train_images, train_labels, validation_split=0.2, epochs=20, batch_size=32, callbacks=[early_stopping])\n"
   ]
  },
  {
   "cell_type": "code",
   "execution_count": null,
   "id": "1019952c",
   "metadata": {},
   "outputs": [],
   "source": [
    "\n",
    "# Model evaluation on test data\n",
    "test_loss, test_accuracy = model.evaluate(test_images, test_labels, verbose=0)\n",
    "print(f\"Test accuracy: {test_accuracy:.2f}\")\n",
    "\n",
    "# Predictions\n",
    "predictions = (model.predict(test_images) > 0.5).astype(\"int32\")\n"
   ]
  },
  {
   "cell_type": "code",
   "execution_count": null,
   "id": "d1fffa4d",
   "metadata": {},
   "outputs": [],
   "source": [
    "\n",
    "# Generate confusion matrix and classification report\n",
    "cm = confusion_matrix(test_labels, predictions)\n",
    "sns.heatmap(cm, annot=True, fmt=\"d\", cmap=\"Blues\", xticklabels=[\"Biodegradable\", \"Non-Biodegradable\"], yticklabels=[\"Biodegradable\", \"Non-Biodegradable\"])\n",
    "plt.xlabel(\"Predicted\")\n",
    "plt.ylabel(\"Actual\")\n",
    "plt.title(\"Confusion Matrix\")\n",
    "plt.show()\n",
    "\n",
    "# Print classification report\n",
    "print(\"Classification Report:\")\n",
    "print(classification_report(test_labels, predictions, target_names=[\"Biodegradable\", \"Non-Biodegradable\"]))\n"
   ]
  }
 ],
 "metadata": {},
 "nbformat": 4,
 "nbformat_minor": 5
}
